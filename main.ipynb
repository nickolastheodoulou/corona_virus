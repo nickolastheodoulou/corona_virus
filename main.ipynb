{
 "cells": [
  {
   "cell_type": "code",
   "execution_count": 2,
   "metadata": {
    "collapsed": true,
    "pycharm": {
     "name": "#%%\n",
     "is_executing": false
    }
   },
   "outputs": [
    {
     "name": "stdout",
     "text": [
      "hello world\n"
     ],
     "output_type": "stream"
    }
   ],
   "source": [
    "print('hello world')"
   ]
  },
  {
   "cell_type": "code",
   "execution_count": 1,
   "outputs": [
    {
     "name": "stdout",
     "text": [
      "                                               abstract\n",
      "0     [{'text': 'Background: Porcine epidemic diarrh...\n",
      "1     [{'text': 'Currently, live-attenuated IBV vacc...\n",
      "2                                                    []\n",
      "3                                                    []\n",
      "4     [{'text': 'The new world arenavirus Junín viru...\n",
      "...                                                 ...\n",
      "8995  [{'text': 'We hypothesized that postnatal deve...\n",
      "8996  [{'text': 'Venereal syphilis is a multi-stage,...\n",
      "8997  [{'text': 'The emergence of Middle East respir...\n",
      "8998  [{'text': 'We have previously shown that the i...\n",
      "8999  [{'text': 'Virus host shifts occur frequently,...\n",
      "\n",
      "[9000 rows x 1 columns]\n"
     ],
     "output_type": "stream"
    }
   ],
   "source": [
    "import os, json\n",
    "import pandas as pd\n",
    "\n",
    "# data from https://pages.semanticscholar.org/coronavirus-research\n",
    "\n",
    "# this finds our json files\n",
    "path_to_json = 'comm_use_subset/'\n",
    "json_files = [pos_json for pos_json in os.listdir(path_to_json) if pos_json.endswith('.json')]\n",
    "\n",
    "# here I define my pandas Dataframe with the columns I want to get from the json\n",
    "# jsons_data = pd.DataFrame(columns=['country', 'city', 'long/lat'])\n",
    "df = pd.DataFrame(columns=['abstract'])\n",
    "\n",
    "\n",
    "# we need both the json and an index number so use enumerate()\n",
    "for index, js in enumerate(json_files):\n",
    "    with open(os.path.join(path_to_json, js)) as json_file:\n",
    "        json_text = json.load(json_file)\n",
    "        # json_text = json.loads(json_text)\n",
    "\n",
    "\n",
    "        # here you need to know the layout of your json and each json has to have\n",
    "        # the same structure (obviously not the structure I have here)\n",
    "        abstract = json_text['abstract']\n",
    "        # abstract = json_textabstract['text']\n",
    "        # city = json_text['features'][0]['properties']['name']\n",
    "        # lonlat = json_text['features'][0]['geometry']['coordinates']\n",
    "        # here I push a list of data into a pandas DataFrame at row given by 'index'\n",
    "        # df.loc[index] = [country, city, lonlat]\n",
    "        df.loc[index] = [abstract]\n",
    "\n",
    "# now that we have the pertinent json data in our DataFrame let's look at it\n",
    "print(df)"
   ],
   "metadata": {
    "collapsed": false,
    "pycharm": {
     "name": "#%%\n",
     "is_executing": false
    }
   }
  },
  {
   "cell_type": "code",
   "execution_count": 2,
   "outputs": [],
   "source": [
    "df.to_csv('test.csv', index=False)"
   ],
   "metadata": {
    "collapsed": false,
    "pycharm": {
     "name": "#%%\n",
     "is_executing": false
    }
   }
  },
  {
   "cell_type": "code",
   "execution_count": 3,
   "outputs": [
    {
     "name": "stdout",
     "text": [
      "0       [{'text': 'Background: Porcine epidemic diarrh...\n",
      "1       [{'text': 'Currently, live-attenuated IBV vacc...\n",
      "2                                                      []\n",
      "3                                                      []\n",
      "4       [{'text': 'The new world arenavirus Junín viru...\n",
      "                              ...                        \n",
      "8995    [{'text': 'We hypothesized that postnatal deve...\n",
      "8996    [{'text': 'Venereal syphilis is a multi-stage,...\n",
      "8997    [{'text': 'The emergence of Middle East respir...\n",
      "8998    [{'text': 'We have previously shown that the i...\n",
      "8999    [{'text': 'Virus host shifts occur frequently,...\n",
      "Name: abstract, Length: 9000, dtype: object\n",
      "<class 'pandas.core.series.Series'>\n"
     ],
     "output_type": "stream"
    }
   ],
   "source": [
    "print(df['abstract'])\n",
    "print(type(df['abstract']))"
   ],
   "metadata": {
    "collapsed": false,
    "pycharm": {
     "name": "#%%\n",
     "is_executing": false
    }
   }
  },
  {
   "cell_type": "code",
   "execution_count": null,
   "outputs": [],
   "source": [
    "df = df.astype(object)\n",
    "df['abstract'] = df['abstract'].to_json()"
   ],
   "metadata": {
    "collapsed": false,
    "pycharm": {
     "name": "#%%\n",
     "is_executing": true
    }
   }
  },
  {
   "cell_type": "code",
   "execution_count": null,
   "outputs": [],
   "source": [
    "print(df['abstract'][0])\n",
    "\n"
   ],
   "metadata": {
    "collapsed": false,
    "pycharm": {
     "name": "#%%\n",
     "is_executing": true
    }
   }
  },
  {
   "cell_type": "code",
   "execution_count": null,
   "outputs": [],
   "source": [
    "\n"
   ],
   "metadata": {
    "collapsed": false,
    "pycharm": {
     "name": "#%%\n"
    }
   }
  }
 ],
 "metadata": {
  "kernelspec": {
   "display_name": "Python 3",
   "language": "python",
   "name": "python3"
  },
  "language_info": {
   "codemirror_mode": {
    "name": "ipython",
    "version": 2
   },
   "file_extension": ".py",
   "mimetype": "text/x-python",
   "name": "python",
   "nbconvert_exporter": "python",
   "pygments_lexer": "ipython2",
   "version": "2.7.6"
  },
  "pycharm": {
   "stem_cell": {
    "cell_type": "raw",
    "source": [],
    "metadata": {
     "collapsed": false
    }
   }
  }
 },
 "nbformat": 4,
 "nbformat_minor": 0
}